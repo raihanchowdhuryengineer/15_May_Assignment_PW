{
 "cells": [
  {
   "cell_type": "code",
   "execution_count": null,
   "id": "e27baf30-c946-4c7f-b88e-cafbd9e1d158",
   "metadata": {},
   "outputs": [],
   "source": [
    "Q1. How do you comment code in Python? What are the different types of comments?"
   ]
  },
  {
   "cell_type": "markdown",
   "id": "a505b8f3-a698-4ed2-ba73-0511357071d3",
   "metadata": {},
   "source": [
    "We can use comment for one line just putting # at that line ,for multiple line i use \"\"\"   \"\"\" .There are two types of comment: Single Line,Double Line Comment. "
   ]
  },
  {
   "cell_type": "code",
   "execution_count": null,
   "id": "e91c7063-224e-4832-8c0c-3c9e64100639",
   "metadata": {},
   "outputs": [],
   "source": [
    "Q2. What are variables in Python? How do you declare and assign values to variables?"
   ]
  },
  {
   "cell_type": "markdown",
   "id": "5e8c7d3a-dae7-46fa-a4b9-746f73e6be25",
   "metadata": {},
   "source": [
    "Variable is like a bowl.A variable is created when some value assigned to it.we can declare and assign variable very easyily.For example if we want to add 4 in variable in \n",
    "a=4;value 4 is assigned to a."
   ]
  },
  {
   "cell_type": "code",
   "execution_count": null,
   "id": "21e2c148-5f29-4079-8a10-6281b8c7fbf5",
   "metadata": {},
   "outputs": [],
   "source": [
    "Q3.How do you convert one data type to another in Python?"
   ]
  },
  {
   "cell_type": "markdown",
   "id": "59201bd9-0529-401f-9321-ee97e83e00fa",
   "metadata": {},
   "source": [
    "we can convert one data type to another using typecasting:int(), float(), str() .For example if we want to convert string to integer.int(x [,base]).For example:\n",
    "\n",
    "f=input(\"Enter a number\"); its a string input,if we want to take integer input:\n",
    "f=int(input(\"Enter a number\"));"
   ]
  },
  {
   "cell_type": "code",
   "execution_count": null,
   "id": "aa21b836-47fb-41f1-9a25-44207474744e",
   "metadata": {},
   "outputs": [],
   "source": [
    "Q4. How do you write and execute a Python script from the command line?"
   ]
  },
  {
   "cell_type": "markdown",
   "id": "3571e719-5ac2-4f42-8312-37209a623a21",
   "metadata": {},
   "source": [
    "For executing a python script,we need to go to \"Open with Integrated Terminal\" in VS code.The we have to type \n",
    "\"py filename.py\".We can execute by like this. \n",
    "For example: py first_python.py\n",
    "Then hit Enter.Code will execute."
   ]
  },
  {
   "cell_type": "code",
   "execution_count": null,
   "id": "08838361-b5f7-4370-a4ad-96bd2c69fe20",
   "metadata": {},
   "outputs": [],
   "source": [
    "Q5. Given a list my_list = [1, 2, 3, 4, 5], write the code to slice the list and obtain the sub-list [2, 3]."
   ]
  },
  {
   "cell_type": "code",
   "execution_count": 1,
   "id": "78e54de2-67e6-4540-89fe-bd3461661ad1",
   "metadata": {},
   "outputs": [],
   "source": [
    "my_list = [1, 2, 3, 4, 5]"
   ]
  },
  {
   "cell_type": "code",
   "execution_count": 7,
   "id": "b526c0a6-85f9-4fbe-bc2f-f21fc89578ff",
   "metadata": {},
   "outputs": [
    {
     "name": "stdout",
     "output_type": "stream",
     "text": [
      "1\n",
      "2\n",
      "3\n",
      "4\n",
      "5\n"
     ]
    },
    {
     "data": {
      "text/plain": [
       "[2, 3]"
      ]
     },
     "execution_count": 7,
     "metadata": {},
     "output_type": "execute_result"
    }
   ],
   "source": [
    "#Slicicing\n",
    "for i in my_list:\n",
    "    print(i)\n",
    "#sublist\n",
    "my_list[1:3]"
   ]
  },
  {
   "cell_type": "code",
   "execution_count": null,
   "id": "b3f163ad-35fd-4c98-a64d-d0bc4a5de9f1",
   "metadata": {},
   "outputs": [],
   "source": [
    "Q6. What is a complex number in mathematics, and how is it represented in Python?"
   ]
  },
  {
   "cell_type": "markdown",
   "id": "0de56c77-1f3c-4f53-89e8-323607ef8372",
   "metadata": {},
   "source": [
    "Complex number are 3+2i.But we represent complex number in like 3+2j.In python we use j for representing complex number."
   ]
  },
  {
   "cell_type": "code",
   "execution_count": null,
   "id": "481b7755-d14c-462e-ac4d-3ed2a950086d",
   "metadata": {},
   "outputs": [],
   "source": [
    "Q7. What is the correct way to declare a variable named age and assign the value 25 to it?"
   ]
  },
  {
   "cell_type": "markdown",
   "id": "b79ca78e-083c-473a-8914-403ad64033c3",
   "metadata": {},
   "source": [
    "We can declare variable name \"age\" an assign 25 to is like :\n",
    "age=25"
   ]
  },
  {
   "cell_type": "code",
   "execution_count": null,
   "id": "4570d091-9b39-43a8-a3eb-ef894fba2e30",
   "metadata": {},
   "outputs": [],
   "source": [
    "Q8.Declare a variable named price and assign the value 9.99 to it. What data type does this variable\n",
    "belong to?"
   ]
  },
  {
   "cell_type": "code",
   "execution_count": 8,
   "id": "dcd05a51-be2c-41eb-8f90-cdb7d14bc10d",
   "metadata": {},
   "outputs": [
    {
     "data": {
      "text/plain": [
       "float"
      ]
     },
     "execution_count": 8,
     "metadata": {},
     "output_type": "execute_result"
    }
   ],
   "source": [
    "price=9.99\n",
    "type(price)"
   ]
  },
  {
   "cell_type": "code",
   "execution_count": null,
   "id": "59864835-74db-4fce-81e9-f84b380340ce",
   "metadata": {},
   "outputs": [],
   "source": [
    "Q9. Create a variable named name and assign your full name to it as a string. How would you print the\n",
    "value of this variable?"
   ]
  },
  {
   "cell_type": "code",
   "execution_count": 10,
   "id": "c07b1f83-fba4-4906-9709-249a5a77e05f",
   "metadata": {},
   "outputs": [
    {
     "name": "stdout",
     "output_type": "stream",
     "text": [
      "Raihan Chowdhury\n"
     ]
    }
   ],
   "source": [
    "name=\"Raihan Chowdhury\"\n",
    "print(name)"
   ]
  },
  {
   "cell_type": "code",
   "execution_count": null,
   "id": "4c8b192b-47b9-4c7c-b247-c3c849f7f5f3",
   "metadata": {},
   "outputs": [],
   "source": [
    "Q10. Given the string \"Hello, World!\", extract the substring \"World\"."
   ]
  },
  {
   "cell_type": "code",
   "execution_count": 11,
   "id": "1a58fac5-5b6e-4421-8eee-9b957d3afda5",
   "metadata": {},
   "outputs": [
    {
     "data": {
      "text/plain": [
       "'World!'"
      ]
     },
     "execution_count": 11,
     "metadata": {},
     "output_type": "execute_result"
    }
   ],
   "source": [
    "x=\"Hello, World!\"\n",
    "x[7:]"
   ]
  },
  {
   "cell_type": "code",
   "execution_count": null,
   "id": "c5bf4916-d7ad-4c8b-886b-aef068c780f0",
   "metadata": {},
   "outputs": [],
   "source": [
    "Q11. Create a variable named \"is_student\" and assign it a boolean value indicating whether you are\n",
    "currently a student or not."
   ]
  },
  {
   "cell_type": "code",
   "execution_count": 14,
   "id": "b67286c0-61a5-4b38-bca0-6001260b8b89",
   "metadata": {},
   "outputs": [
    {
     "ename": "TypeError",
     "evalue": "'builtin_function_or_method' object is not subscriptable",
     "output_type": "error",
     "traceback": [
      "\u001b[0;31m---------------------------------------------------------------------------\u001b[0m",
      "\u001b[0;31mTypeError\u001b[0m                                 Traceback (most recent call last)",
      "Cell \u001b[0;32mIn[14], line 2\u001b[0m\n\u001b[1;32m      1\u001b[0m is_student\u001b[38;5;241m=\u001b[39m\u001b[38;5;124m'\u001b[39m\u001b[38;5;124m0\u001b[39m\u001b[38;5;124m'\u001b[39m\n\u001b[0;32m----> 2\u001b[0m \u001b[38;5;28;43mprint\u001b[39;49m\u001b[43m[\u001b[49m\u001b[43mis_student\u001b[49m\u001b[43m]\u001b[49m\n",
      "\u001b[0;31mTypeError\u001b[0m: 'builtin_function_or_method' object is not subscriptable"
     ]
    }
   ],
   "source": [
    "is_student=True #As i "
   ]
  },
  {
   "cell_type": "code",
   "execution_count": null,
   "id": "52d09b11-e3ee-497b-93f1-46a2a5c0fa59",
   "metadata": {},
   "outputs": [],
   "source": []
  },
  {
   "cell_type": "code",
   "execution_count": null,
   "id": "e204a1ce-ca70-4d67-8350-e1b052ce0503",
   "metadata": {},
   "outputs": [],
   "source": []
  }
 ],
 "metadata": {
  "kernelspec": {
   "display_name": "Python 3 (ipykernel)",
   "language": "python",
   "name": "python3"
  },
  "language_info": {
   "codemirror_mode": {
    "name": "ipython",
    "version": 3
   },
   "file_extension": ".py",
   "mimetype": "text/x-python",
   "name": "python",
   "nbconvert_exporter": "python",
   "pygments_lexer": "ipython3",
   "version": "3.10.8"
  }
 },
 "nbformat": 4,
 "nbformat_minor": 5
}
